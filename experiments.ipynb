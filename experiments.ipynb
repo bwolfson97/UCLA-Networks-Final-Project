{
 "cells": [
  {
   "cell_type": "code",
   "execution_count": 1,
   "metadata": {},
   "outputs": [],
   "source": [
    "%load_ext autoreload\n",
    "%autoreload 2\n",
    "%matplotlib inline"
   ]
  },
  {
   "cell_type": "code",
   "execution_count": 2,
   "metadata": {},
   "outputs": [],
   "source": [
    "import networkx as nx\n",
    "import EoN\n",
    "import matplotlib.pyplot as plt\n",
    "from simulation import *\n",
    "from analysis import *\n",
    "from end_to_end import *"
   ]
  },
  {
   "cell_type": "markdown",
   "metadata": {},
   "source": [
    "# SIR Model on G(n,p) Network"
   ]
  },
  {
   "cell_type": "markdown",
   "metadata": {},
   "source": [
    "### Resources\n",
    "* [Her colleague's paper](https://d1b10bmlvqabco.cloudfront.net/attach/k7v24tpzbybzr/jmca5mxi9t361a/k9ye8o2opt8i/jail_paper.pdf)\n",
    "* [Daily Bruin Article](https://stack.dailybruin.com/2020/05/12/covid-model/)\n",
    "* [Epidemics on Networks paper](https://arxiv.org/pdf/2001.02436.pdf)"
   ]
  },
  {
   "cell_type": "markdown",
   "metadata": {},
   "source": [
    "### Coding Documentation"
   ]
  },
  {
   "cell_type": "markdown",
   "metadata": {},
   "source": [
    "* https://networkx.github.io/documentation/stable/reference/index.html\n",
    "* https://epidemicsonnetworks.readthedocs.io/en/latest/"
   ]
  },
  {
   "cell_type": "markdown",
   "metadata": {},
   "source": [
    "### Assumptions:\n",
    "- Removed inmates can be any state\n",
    "- Avg. degree of new nodes is correlated with current prison population (aka p is constant)\n",
    "- Death rate (as in time it takes people to transfer from infected to dead) is equal to the recovery rate"
   ]
  },
  {
   "cell_type": "markdown",
   "metadata": {},
   "source": [
    "## Possible Things to Work On:"
   ]
  },
  {
   "cell_type": "markdown",
   "metadata": {},
   "source": [
    "* Simulations are stochastic, so perhaps taking the average over multiple simulations would reduce noise?"
   ]
  },
  {
   "cell_type": "markdown",
   "metadata": {},
   "source": [
    "## Description of Parameters"
   ]
  },
  {
   "cell_type": "markdown",
   "metadata": {},
   "source": [
    "* **background_inmate_turnover**: background # of inmates added/released at each time step\n",
    "* **release_number**: # of inmates to release\n",
    "* **number_infected_before_release**: number of infected at which to perform release on next integer time\n",
    "* **rho**: percent of inmates that are initially infected\n",
    "* **death_rate**: probability of dying after being infected\n",
    "* **tau**: transmission rate\n",
    "* **gamma**: recovery rate\n",
    "* **max_time**: # of time steps to run simulation\n",
    "* **N**: # of inmates initially\n",
    "* **p**: probability of contact between inmate and other inmates\n",
    "* **percent_infected**: percent of general population that is infected\n",
    "* **percent_recovered**: percent of general population that is recovered\n",
    "* **save_plot**: should plot of results be saved to computer?\n",
    "* **stop_inflow_at_intervention**: should we stop the background inflow of inmates at intervention time?\n",
    "* **title**: title of plot"
   ]
  },
  {
   "cell_type": "markdown",
   "metadata": {},
   "source": [
    "## Constant Parameters"
   ]
  },
  {
   "cell_type": "markdown",
   "metadata": {},
   "source": [
    "These parameters are held constant througout the trials.\n",
    "* background_inmate_turnover=20\n",
    "* rho=0.0003\n",
    "* death_rate=0.012\n",
    "* tau=0.03\n",
    "* gamma=0.07\n",
    "* max_time=60\n",
    "* N=3000\n",
    "* p=0.02\n",
    "* percent_infected=0.0035\n",
    "* percent_recovered=0.0015"
   ]
  },
  {
   "cell_type": "markdown",
   "metadata": {},
   "source": [
    "**NOTE**: Started experimenting with a lower tau=0.003 in order to produce an initial R0 of about 2.5. Extended max_time too because spread takes longer now."
   ]
  },
  {
   "cell_type": "markdown",
   "metadata": {},
   "source": [
    "# Experimental Design"
   ]
  },
  {
   "cell_type": "markdown",
   "metadata": {},
   "source": [
    "The cases we shall examine are as follows:\n",
    "\n",
    "1. **Control case**: no release intervention, no stopping of inmate intake\n",
    "2. **Intervention A**: no release intervention, but stopping of inmate intake\n",
    "3. **Intervention B**: release intervention and stopping of inmate intake\n",
    "\n",
    "For case 3, Intervention B, we shall experiment with a range of release numbers and release conditions."
   ]
  },
  {
   "cell_type": "code",
   "execution_count": 13,
   "metadata": {},
   "outputs": [],
   "source": [
    "# Graph parameters\n",
    "N = 3000\n",
    "p = 0.02\n",
    "\n",
    "# Build graph on which to run all simulations\n",
    "G = nx.fast_gnp_random_graph(N, p)"
   ]
  },
  {
   "cell_type": "markdown",
   "metadata": {},
   "source": [
    "## Control Case"
   ]
  },
  {
   "cell_type": "code",
   "execution_count": 7,
   "metadata": {
    "scrolled": false
   },
   "outputs": [
    {
     "name": "stdout",
     "output_type": "stream",
     "text": [
      "Starting simulation...\n",
      "Simulation completed.\n",
      "\n",
      "############################ Parameters #############################\n",
      "{'release_number': 0, 'number_infected_before_release': 10000, 'stop_inflow_at_intervention': False, 'background_inmate_turnover': 20, 'death_rate': 0.012, 'tau': 0.03, 'gamma': 0.07, 'rho': 0.0003, 'max_time': 60, 'N': 3000, 'p': 0.02, 'percent_infected': 0.0035, 'percent_recovered': 0.0015, 'save_plot': False, 'title': '', 'social_distance': False, 'social_distance_tau': 0.01, 'custom_graph': <networkx.classes.graph.Graph object at 0x000001FAE8FAB1C0>, 'constant_initial_infected': True, 'initial_infected_list': [0]}\n",
      "\n",
      "############################## Results ##############################\n",
      "Total # of infections:  3957\n",
      "Total # of deaths:  41.0\n",
      "Infections peaked at:\n",
      "\tTime: 6.727865982842865\n",
      "\t# of infected: 2495\n"
     ]
    },
    {
     "data": {
      "image/png": "[encoded data removed]",
      "text/plain": [
       "<Figure size 432x288 with 1 Axes>"
      ]
     },
     "metadata": {
      "needs_background": "light"
     },
     "output_type": "display_data"
    },
    {
     "name": "stdout",
     "output_type": "stream",
     "text": [
      "Wall time: 7.44 s\n"
     ]
    }
   ],
   "source": [
    "%%time\n",
    "t, S, I, R, D = (end_to_end(release_number=0, \n",
    "                            number_infected_before_release=10000, \n",
    "                            stop_inflow_at_intervention=False,\n",
    "                            background_inmate_turnover=20, \n",
    "                            death_rate=0.012, \n",
    "                            tau=0.03, \n",
    "                            gamma=0.07,  \n",
    "                            max_time=60, \n",
    "                            social_distance=False, \n",
    "                            social_distance_tau=0.01, \n",
    "                            custom_graph=G, \n",
    "                            constant_initial_infected=True,\n",
    "                            initial_infected_list=[0]))"
   ]
  },
  {
   "cell_type": "markdown",
   "metadata": {},
   "source": [
    "## Intervention A: no release intervention, but stop inmate inflow & social distance"
   ]
  },
  {
   "cell_type": "markdown",
   "metadata": {},
   "source": [
    "**NOTE**: For the intervention trials, the intervention does not occur exactly when there are `number_infected_before_release` infected inmates. Instead, the actual intervention occurs at the next integer-valued time step after the `number_infected_before_release` condition has been met. By the time it occurs, the '# of infected' may be much higher than `number_infected_before_release` (I've seen it being 4.5x higher). So, I have ran trials repeatedly until the intervention kicks in at a similar # of infected for each experiment case (around 110 - 120 infected people when the intervention kicks in)."
   ]
  },
  {
   "cell_type": "code",
   "execution_count": 16,
   "metadata": {},
   "outputs": [
    {
     "name": "stdout",
     "output_type": "stream",
     "text": [
      "Starting simulation...\n",
      "Release intervention condition met:\n",
      "\tTime: 11\n",
      "\t# of infected: 129\n",
      "\tReleasing 0 inmates.\n",
      "\tStopping inmate inflow.\n"
     ]
    },
    {
     "ename": "Exception",
     "evalue": "All inmates died or got released from prison :( Try turning down max_time or background turnover rate",
     "output_type": "error",
     "traceback": [
      "\u001b[1;31m---------------------------------------------------------------------------\u001b[0m",
      "\u001b[1;31mException\u001b[0m                                 Traceback (most recent call last)",
      "\u001b[1;32m<timed exec>\u001b[0m in \u001b[0;36m<module>\u001b[1;34m\u001b[0m\n",
      "\u001b[1;32m~\\PycharmProjects\\UCLA-Networks-Final-Project\\end_to_end.py\u001b[0m in \u001b[0;36mend_to_end\u001b[1;34m(release_number, number_infected_before_release, stop_inflow_at_intervention, background_inmate_turnover, death_rate, tau, gamma, rho, max_time, N, p, percent_infected, percent_recovered, save_plot, title, social_distance, social_distance_tau, custom_graph, constant_initial_infected, initial_infected_list)\u001b[0m\n\u001b[0;32m     55\u001b[0m \u001b[1;33m\u001b[0m\u001b[0m\n\u001b[0;32m     56\u001b[0m     \u001b[1;31m# Run simulation\u001b[0m\u001b[1;33m\u001b[0m\u001b[1;33m\u001b[0m\u001b[1;33m\u001b[0m\u001b[0m\n\u001b[1;32m---> 57\u001b[1;33m     t, S, I, R, D = simulation(G, tau, gamma, rho, max_time, number_infected_before_release, release_number,\n\u001b[0m\u001b[0;32m     58\u001b[0m                                \u001b[0mbackground_inmate_turnover\u001b[0m\u001b[1;33m,\u001b[0m \u001b[0mstop_inflow_at_intervention\u001b[0m\u001b[1;33m,\u001b[0m \u001b[0mp\u001b[0m\u001b[1;33m,\u001b[0m \u001b[0mdeath_rate\u001b[0m\u001b[1;33m,\u001b[0m\u001b[1;33m\u001b[0m\u001b[1;33m\u001b[0m\u001b[0m\n\u001b[0;32m     59\u001b[0m                                \u001b[0mpercent_infected\u001b[0m\u001b[1;33m,\u001b[0m \u001b[0mpercent_recovered\u001b[0m\u001b[1;33m,\u001b[0m \u001b[0msocial_distance\u001b[0m\u001b[1;33m,\u001b[0m \u001b[0msocial_distance_tau\u001b[0m\u001b[1;33m,\u001b[0m\u001b[1;33m\u001b[0m\u001b[1;33m\u001b[0m\u001b[0m\n",
      "\u001b[1;32m~\\PycharmProjects\\UCLA-Networks-Final-Project\\simulation.py\u001b[0m in \u001b[0;36msimulation\u001b[1;34m(G, tau, gamma, rho, max_time, number_infected_before_release, release_number, background_inmate_turnover, stop_inflow_at_intervention, p, death_rate, percent_infected, percent_recovered, social_distance, social_distance_tau, constant_initial_infected, initial_infected_list)\u001b[0m\n\u001b[0;32m     73\u001b[0m \u001b[1;33m\u001b[0m\u001b[0m\n\u001b[0;32m     74\u001b[0m         \u001b[1;31m# Add and release inmates\u001b[0m\u001b[1;33m\u001b[0m\u001b[1;33m\u001b[0m\u001b[1;33m\u001b[0m\u001b[0m\n\u001b[1;32m---> 75\u001b[1;33m         G, infected_list, recovered_list, delta_recovered = recalibrate_graph(G, infected_list, recovered_list,\n\u001b[0m\u001b[0;32m     76\u001b[0m                                                                               \u001b[0mbackground_inmate_turnover\u001b[0m\u001b[1;33m,\u001b[0m \u001b[0mr_n\u001b[0m\u001b[1;33m,\u001b[0m \u001b[0mp\u001b[0m\u001b[1;33m,\u001b[0m\u001b[1;33m\u001b[0m\u001b[1;33m\u001b[0m\u001b[0m\n\u001b[0;32m     77\u001b[0m                                                                               \u001b[0mpercent_infected\u001b[0m\u001b[1;33m,\u001b[0m \u001b[0mpercent_recovered\u001b[0m\u001b[1;33m,\u001b[0m\u001b[1;33m\u001b[0m\u001b[1;33m\u001b[0m\u001b[0m\n",
      "\u001b[1;32m~\\PycharmProjects\\UCLA-Networks-Final-Project\\simulation.py\u001b[0m in \u001b[0;36mrecalibrate_graph\u001b[1;34m(G, infected_list, recovered_list, birth_number, release_number, p, percent_infected, percent_recovered, death_rate)\u001b[0m\n\u001b[0;32m    110\u001b[0m     \"\"\"\n\u001b[0;32m    111\u001b[0m     \u001b[1;31m# Release inmates\u001b[0m\u001b[1;33m\u001b[0m\u001b[1;33m\u001b[0m\u001b[1;33m\u001b[0m\u001b[0m\n\u001b[1;32m--> 112\u001b[1;33m     G, infected_list, recovered_list, num_recovered_released = remove_nodes(G, infected_list, recovered_list,\n\u001b[0m\u001b[0;32m    113\u001b[0m                                                                             release_number, death_rate)\n\u001b[0;32m    114\u001b[0m \u001b[1;33m\u001b[0m\u001b[0m\n",
      "\u001b[1;32m~\\PycharmProjects\\UCLA-Networks-Final-Project\\simulation.py\u001b[0m in \u001b[0;36mremove_nodes\u001b[1;34m(G, infected_list, recovered_list, release_number, death_rate)\u001b[0m\n\u001b[0;32m    180\u001b[0m         \u001b[1;31m# Prevent division by 0\u001b[0m\u001b[1;33m\u001b[0m\u001b[1;33m\u001b[0m\u001b[1;33m\u001b[0m\u001b[0m\n\u001b[0;32m    181\u001b[0m         \u001b[1;32mif\u001b[0m \u001b[0mdm\u001b[0m \u001b[1;33m==\u001b[0m \u001b[1;36m0\u001b[0m\u001b[1;33m:\u001b[0m\u001b[1;33m\u001b[0m\u001b[1;33m\u001b[0m\u001b[0m\n\u001b[1;32m--> 182\u001b[1;33m             raise Exception(\n\u001b[0m\u001b[0;32m    183\u001b[0m                 \u001b[1;34m'All inmates died or got released from prison :( Try turning down max_time or background '\u001b[0m\u001b[1;33m\u001b[0m\u001b[1;33m\u001b[0m\u001b[0m\n\u001b[0;32m    184\u001b[0m                 'turnover rate')\n",
      "\u001b[1;31mException\u001b[0m: All inmates died or got released from prison :( Try turning down max_time or background turnover rate"
     ]
    }
   ],
   "source": [
    "%%time\n",
    "t, S, I, R, D = (end_to_end(release_number=0, \n",
    "                            number_infected_before_release=100, \n",
    "                            stop_inflow_at_intervention=True,\n",
    "                            tau=0.03, \n",
    "                            gamma=0.07,  \n",
    "                            max_time=60, \n",
    "                            social_distance=True, \n",
    "                            social_distance_tau=0.03, \n",
    "                            custom_graph=G, \n",
    "                            constant_initial_infected=True,\n",
    "                            initial_infected_list=[0]))"
   ]
  },
  {
   "cell_type": "markdown",
   "metadata": {},
   "source": [
    "## Intervention B: release intervention and stopping of inmate intake"
   ]
  }
 ],
 "metadata": {
  "kernelspec": {
   "display_name": "Python 3",
   "language": "python",
   "name": "python3"
  },
  "language_info": {
   "codemirror_mode": {
    "name": "ipython",
    "version": 3
   },
   "file_extension": ".py",
   "mimetype": "text/x-python",
   "name": "python",
   "nbconvert_exporter": "python",
   "pygments_lexer": "ipython3",
   "version": "3.8.2"
  }
 },
 "nbformat": 4,
 "nbformat_minor": 4
}
