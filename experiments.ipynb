{
 "cells": [
  {
   "cell_type": "code",
   "execution_count": 1,
   "metadata": {},
   "outputs": [],
   "source": [
    "%load_ext autoreload\n",
    "%autoreload 2\n",
    "%matplotlib inline"
   ]
  },
  {
   "cell_type": "code",
   "execution_count": 2,
   "metadata": {},
   "outputs": [],
   "source": [
    "import networkx as nx\n",
    "import EoN\n",
    "import matplotlib.pyplot as plt\n",
    "from simulation import *\n",
    "from analysis import *\n",
    "from end_to_end import *"
   ]
  },
  {
   "cell_type": "markdown",
   "metadata": {},
   "source": [
    "# SIR Model on G(n,p) Network"
   ]
  },
  {
   "cell_type": "markdown",
   "metadata": {},
   "source": [
    "### Resources\n",
    "* [Her colleague's paper](https://d1b10bmlvqabco.cloudfront.net/attach/k7v24tpzbybzr/jmca5mxi9t361a/k9ye8o2opt8i/jail_paper.pdf)\n",
    "* [Daily Bruin Article](https://stack.dailybruin.com/2020/05/12/covid-model/)\n",
    "* [Epidemics on Networks paper](https://arxiv.org/pdf/2001.02436.pdf)"
   ]
  },
  {
   "cell_type": "markdown",
   "metadata": {},
   "source": [
    "### Coding Documentation"
   ]
  },
  {
   "cell_type": "markdown",
   "metadata": {},
   "source": [
    "* https://networkx.github.io/documentation/stable/reference/index.html\n",
    "* https://epidemicsonnetworks.readthedocs.io/en/latest/"
   ]
  },
  {
   "cell_type": "markdown",
   "metadata": {},
   "source": [
    "### Assumptions:\n",
    "- Removed inmates can be any state\n",
    "- Avg. degree of new nodes is correlated with current prison population (aka p is constant)\n",
    "- Death rate (as in time it takes people to transfer from infected to dead) is equal to the recovery rate"
   ]
  },
  {
   "cell_type": "markdown",
   "metadata": {},
   "source": [
    "## Description of Parameters"
   ]
  },
  {
   "cell_type": "markdown",
   "metadata": {},
   "source": [
    "* **background_inmate_turnover**: background # of inmates added/released at each time step\n",
    "* **release_number**: # of inmates to release\n",
    "* **number_infected_before_release**: number of infected at which to perform release on next integer time\n",
    "* **rho**: percent of inmates that are initially infected\n",
    "* **death_rate**: probability of dying after being infected\n",
    "* **tau**: transmission rate\n",
    "* **gamma**: recovery rate\n",
    "* **max_time**: # of time steps to run simulation\n",
    "* **N**: # of inmates initially\n",
    "* **p**: probability of contact between inmate and other inmates\n",
    "* **percent_infected**: percent of general population that is infected\n",
    "* **percent_recovered**: percent of general population that is recovered\n",
    "* **save_plot**: should plot of results be saved to computer?\n",
    "* **stop_inflow_at_intervention**: should we stop the background inflow of inmates at intervention time?"
   ]
  },
  {
   "cell_type": "markdown",
   "metadata": {},
   "source": [
    "## Constant Parameters"
   ]
  },
  {
   "cell_type": "code",
   "execution_count": null,
   "metadata": {},
   "outputs": [],
   "source": []
  },
  {
   "cell_type": "code",
   "execution_count": 455,
   "metadata": {
    "scrolled": false
   },
   "outputs": [
    {
     "name": "stdout",
     "output_type": "stream",
     "text": [
      "Starting simulation...\n",
      "Release intervention condition met\n",
      "\tTime: 2\n",
      "\t# of infected: 118\n",
      "Stopping inmate inflow\n",
      "Simulation completed.\n",
      "\n",
      "Parameters:\n",
      "{'background_inmate_turnover': 50, 'release_number': 1000, 'number_infected_before_release': 100, 'rho': 0.01, 'death_rate': 0.013, 'tau': 0.03, 'gamma': 1.0, 'max_time': 15, 'N': 3000, 'p': 0.02, 'percent_infected': 0.0, 'percent_recovered': 0, 'save_plot': True, 'stop_inflow_at_intervention': True}\n"
     ]
    },
    {
     "data": {
      "image/png": "[encoded data removed]",
      "text/plain": [
       "<Figure size 432x288 with 1 Axes>"
      ]
     },
     "metadata": {
      "needs_background": "light"
     },
     "output_type": "display_data"
    },
    {
     "name": "stdout",
     "output_type": "stream",
     "text": [
      "Total # of infections:  537\n",
      "Total # of deaths:  7.0\n"
     ]
    }
   ],
   "source": [
    "t, S, I, R, D = (end_to_end(background_inmate_turnover, \n",
    "                            release_number, \n",
    "                            number_of_infected_before_release, \n",
    "                            rho, \n",
    "                            max_time=max_time, \n",
    "                            death_rate=death_rate,\n",
    "                            percent_recovered=percent_recovered, \n",
    "                            percent_infected=percent_infected, \n",
    "                            tau=tau, \n",
    "                            save_plot=True, \n",
    "                            stop_inflow_at_intervention=stop_inflow_at_intervention))"
   ]
  },
  {
   "cell_type": "code",
   "execution_count": null,
   "metadata": {},
   "outputs": [],
   "source": [
    "t, S, I, R, D = (end_to_end(background_inmate_turnover, \n",
    "                            release_number, \n",
    "                            number_of_infected_before_release, \n",
    "                            rho, \n",
    "                            max_time=max_time, \n",
    "                            death_rate=death_rate,\n",
    "                            percent_recovered=percent_recovered, \n",
    "                            percent_infected=percent_infected, \n",
    "                            tau=tau, \n",
    "                            save_plot=True, \n",
    "                            stop_inflow_at_intervention=stop_inflow_at_intervention))"
   ]
  },
  {
   "cell_type": "code",
   "execution_count": null,
   "metadata": {},
   "outputs": [],
   "source": [
    "t, S, I, R, D = (end_to_end(background_inmate_turnover, \n",
    "                            release_number, \n",
    "                            number_of_infected_before_release, \n",
    "                            rho, \n",
    "                            max_time=max_time, \n",
    "                            death_rate=death_rate,\n",
    "                            percent_recovered=percent_recovered, \n",
    "                            percent_infected=percent_infected, \n",
    "                            tau=tau, \n",
    "                            save_plot=True, \n",
    "                            stop_inflow_at_intervention=stop_inflow_at_intervention))"
   ]
  },
  {
   "cell_type": "code",
   "execution_count": null,
   "metadata": {},
   "outputs": [],
   "source": [
    "t, S, I, R, D = (end_to_end(background_inmate_turnover, \n",
    "                            release_number, \n",
    "                            number_of_infected_before_release, \n",
    "                            rho, \n",
    "                            max_time=max_time, \n",
    "                            death_rate=death_rate,\n",
    "                            percent_recovered=percent_recovered, \n",
    "                            percent_infected=percent_infected, \n",
    "                            tau=tau, \n",
    "                            save_plot=True, \n",
    "                            stop_inflow_at_intervention=stop_inflow_at_intervention))"
   ]
  },
  {
   "cell_type": "code",
   "execution_count": null,
   "metadata": {},
   "outputs": [],
   "source": [
    "t, S, I, R, D = (end_to_end(background_inmate_turnover, \n",
    "                            release_number, \n",
    "                            number_of_infected_before_release, \n",
    "                            rho, \n",
    "                            max_time=max_time, \n",
    "                            death_rate=death_rate,\n",
    "                            percent_recovered=percent_recovered, \n",
    "                            percent_infected=percent_infected, \n",
    "                            tau=tau, \n",
    "                            save_plot=True, \n",
    "                            stop_inflow_at_intervention=stop_inflow_at_intervention))"
   ]
  },
  {
   "cell_type": "code",
   "execution_count": null,
   "metadata": {},
   "outputs": [],
   "source": [
    "t, S, I, R, D = (end_to_end(background_inmate_turnover, \n",
    "                            release_number, \n",
    "                            number_of_infected_before_release, \n",
    "                            rho, \n",
    "                            max_time=max_time, \n",
    "                            death_rate=death_rate,\n",
    "                            percent_recovered=percent_recovered, \n",
    "                            percent_infected=percent_infected, \n",
    "                            tau=tau, \n",
    "                            save_plot=True, \n",
    "                            stop_inflow_at_intervention=stop_inflow_at_intervention))"
   ]
  },
  {
   "cell_type": "code",
   "execution_count": null,
   "metadata": {},
   "outputs": [],
   "source": [
    "t, S, I, R, D = (end_to_end(background_inmate_turnover, \n",
    "                            release_number, \n",
    "                            number_of_infected_before_release, \n",
    "                            rho, \n",
    "                            max_time=max_time, \n",
    "                            death_rate=death_rate,\n",
    "                            percent_recovered=percent_recovered, \n",
    "                            percent_infected=percent_infected, \n",
    "                            tau=tau, \n",
    "                            save_plot=True, \n",
    "                            stop_inflow_at_intervention=stop_inflow_at_intervention))"
   ]
  },
  {
   "cell_type": "code",
   "execution_count": null,
   "metadata": {},
   "outputs": [],
   "source": [
    "t, S, I, R, D = (end_to_end(background_inmate_turnover, \n",
    "                            release_number, \n",
    "                            number_of_infected_before_release, \n",
    "                            rho, \n",
    "                            max_time=max_time, \n",
    "                            death_rate=death_rate,\n",
    "                            percent_recovered=percent_recovered, \n",
    "                            percent_infected=percent_infected, \n",
    "                            tau=tau, \n",
    "                            save_plot=True, \n",
    "                            stop_inflow_at_intervention=stop_inflow_at_intervention))"
   ]
  }
 ],
 "metadata": {
  "kernelspec": {
   "display_name": "Python 3",
   "language": "python",
   "name": "python3"
  },
  "language_info": {
   "codemirror_mode": {
    "name": "ipython",
    "version": 3
   },
   "file_extension": ".py",
   "mimetype": "text/x-python",
   "name": "python",
   "nbconvert_exporter": "python",
   "pygments_lexer": "ipython3",
   "version": "3.8.2"
  }
 },
 "nbformat": 4,
 "nbformat_minor": 4
}
