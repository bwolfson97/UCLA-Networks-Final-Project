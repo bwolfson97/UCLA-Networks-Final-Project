{
 "cells": [
  {
   "cell_type": "code",
   "execution_count": 1,
   "metadata": {},
   "outputs": [],
   "source": [
    "%load_ext autoreload\n",
    "%autoreload 2\n",
    "%matplotlib inline"
   ]
  },
  {
   "cell_type": "code",
   "execution_count": 2,
   "metadata": {},
   "outputs": [],
   "source": [
    "import networkx as nx\n",
    "import EoN\n",
    "import numpy as np"
   ]
  },
  {
   "cell_type": "markdown",
   "metadata": {},
   "source": [
    "## Testing meaning of EoN transmission_rate parameter\n",
    "#### Purpose\n",
    "The purpose of this notebook is to test that the EoN transmission rate parameter (which the EoN package calls tau) is the same as our textbook's transmission rate (which it calls beta). \n",
    "\n",
    "#### Experimental Design\n",
    "Our experiment is as follows. We know how to analytically calculate the tranmission probability (the probability that the infected node will infect the susceptible node), using the formula: \n",
    "\n",
    "$Transmission\\ Probability = 1-e^{-Transmission\\ Rate * Infectious\\ Period}$   (see page 626 of textbook)\n",
    "\n",
    "We can also experimentally calculate the transmission probability. We do this by using a network of 2 connected nodes, one infected, one susceptible. We then run many trials and count how many times the infected node infects the susceptible node. The transmission probability is equal to the percent of trials where the infected node infected the susceptible node.\n",
    "\n",
    "If the experimental transmission probability is equal to the analytic transmission probability, it supports the idea that the EoN transmission rate is the same as the textbook's transmission rate. If not, then the inverse hypothesis is supported. (I think.)\n",
    "\n",
    "#### Code and Results"
   ]
  },
  {
   "cell_type": "code",
   "execution_count": 10,
   "metadata": {},
   "outputs": [
    {
     "name": "stdout",
     "output_type": "stream",
     "text": [
      "Analytic transmission probability: 0.3486\n",
      "Experimental transmission probability: 0.2986\n",
      "Wall time: 5.39 s\n"
     ]
    },
    {
     "data": {
      "image/png": "[encoded data removed]",
      "text/plain": [
       "<Figure size 432x288 with 1 Axes>"
      ]
     },
     "metadata": {},
     "output_type": "display_data"
    }
   ],
   "source": [
    "%%time\n",
    "# Parameters\n",
    "transmission_rate = 0.03  # transmission rate\n",
    "gamma = 0.07 # recovery rate, which averages recovery to 14 days\n",
    "trials = 100000\n",
    "\n",
    "# Analytic prediction of transmission probability (i.e. using formula)\n",
    "infectious_period = 1/gamma\n",
    "analytic_transmission_probability = 1 - np.exp(-transmission_rate*infectious_period)\n",
    "print(f'Analytic transmission probability: {analytic_transmission_probability:.4f}')\n",
    "\n",
    "# Experimental estimate of transmission probability\n",
    "G = nx.fast_gnp_random_graph(2, 1)\n",
    "nx.draw_networkx(G)\n",
    "\n",
    "# Track the number of trials where the virus is transmitted\n",
    "times_virus_was_transmitted = 0\n",
    "for i in range(trials):\n",
    "    # Run simulation\n",
    "    t, S, I, R = EoN.fast_SIR(G, transmission_rate, gamma, initial_infecteds=0)\n",
    "\n",
    "    # If there are 2 recovered people at end, then virus was transmitted\n",
    "    if R[-1] == 2:  \n",
    "        times_virus_was_transmitted += 1\n",
    "\n",
    "experimental_transmission_probability = times_virus_was_transmitted / trials\n",
    "print(f'Experimental transmission probability: {experimental_transmission_probability:.4f}')"
   ]
  },
  {
   "cell_type": "markdown",
   "metadata": {},
   "source": [
    "#### Discussion\n",
    "Well, 0.2986 is not 0.3486. Additionally, further (unshown) experiments show that, as gamma decreases, the analytic prediction and the experimental results increasingly further apart.\n",
    "\n",
    "#### Conclusion\n",
    "So it seems than the EoN transmission rate (tau) parameter is not the transmission rate (beta) described in the textbook."
   ]
  }
 ],
 "metadata": {
  "kernelspec": {
   "display_name": "Python 3",
   "language": "python",
   "name": "python3"
  },
  "language_info": {
   "codemirror_mode": {
    "name": "ipython",
    "version": 3
   },
   "file_extension": ".py",
   "mimetype": "text/x-python",
   "name": "python",
   "nbconvert_exporter": "python",
   "pygments_lexer": "ipython3",
   "version": "3.8.2"
  }
 },
 "nbformat": 4,
 "nbformat_minor": 4
}
