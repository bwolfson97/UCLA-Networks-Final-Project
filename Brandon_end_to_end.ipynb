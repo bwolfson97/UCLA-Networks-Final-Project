{
 "cells": [
  {
   "cell_type": "code",
   "execution_count": 4,
   "metadata": {},
   "outputs": [],
   "source": [
    "%load_ext autoreload\n",
    "%autoreload 2\n",
    "%matplotlib inline"
   ]
  },
  {
   "cell_type": "code",
   "execution_count": 5,
   "metadata": {},
   "outputs": [],
   "source": [
    "import networkx as nx\n",
    "import EoN\n",
    "import matplotlib.pyplot as plt"
   ]
  },
  {
   "cell_type": "markdown",
   "metadata": {},
   "source": [
    "# SIR Model on G(n,p) Network"
   ]
  },
  {
   "cell_type": "markdown",
   "metadata": {},
   "source": [
    "Code adapted from first example found here: https://arxiv.org/pdf/2001.02436.pdf."
   ]
  },
  {
   "cell_type": "markdown",
   "metadata": {},
   "source": [
    "### Resources\n",
    "* [Her colleague's paper](https://d1b10bmlvqabco.cloudfront.net/attach/k7v24tpzbybzr/jmca5mxi9t361a/k9ye8o2opt8i/jail_paper.pdf)\n",
    "* [Daily Bruin Article](https://stack.dailybruin.com/2020/05/12/covid-model/)\n",
    "* [Epidemics on Networks paper](https://arxiv.org/pdf/2001.02436.pdf)"
   ]
  },
  {
   "cell_type": "markdown",
   "metadata": {},
   "source": [
    "### Coding Documentation"
   ]
  },
  {
   "cell_type": "markdown",
   "metadata": {},
   "source": [
    "* https://networkx.github.io/documentation/stable/reference/index.html\n",
    "* https://epidemicsonnetworks.readthedocs.io/en/latest/"
   ]
  },
  {
   "cell_type": "markdown",
   "metadata": {},
   "source": [
    "### TODO:\n",
    "**Emma & Sam**\n",
    "* Get more appropriate graph for a prison\n",
    "* Set parameters to be COVID specific --- Check paper she posted\n",
    "\n",
    "**Me & Marcel**\n",
    "* Figure out how to incorporate birth rate into prison\n",
    "* Figure out how to incorporate inmate releases\n",
    "* Use SIR model"
   ]
  },
  {
   "cell_type": "markdown",
   "metadata": {},
   "source": [
    "### Assumptions:\n",
    "- Added nodes are susceptible (not I or R)"
   ]
  },
  {
   "cell_type": "markdown",
   "metadata": {},
   "source": [
    "## Set Parameters"
   ]
  },
  {
   "cell_type": "code",
   "execution_count": null,
   "metadata": {},
   "outputs": [],
   "source": [
    "# Set G(n,p) model-specific parameters\n",
    "N = 100 # number of individuals\n",
    "kave = 5 # expected number of contacts per person"
   ]
  },
  {
   "cell_type": "code",
   "execution_count": 29,
   "metadata": {},
   "outputs": [],
   "source": [
    "# Set simulation-specific parameters\n",
    "infected_list = [0] # initial nodes that are infected\n",
    "recovered_list = [] # initial nodes that are recovered\n",
    "tau = 0.7 # transmission rate\n",
    "gamma = 1.0 # recovery rate"
   ]
  },
  {
   "cell_type": "markdown",
   "metadata": {},
   "source": [
    "## Generate graph"
   ]
  },
  {
   "cell_type": "code",
   "execution_count": 30,
   "metadata": {},
   "outputs": [],
   "source": [
    "G = nx.fast_gnp_random_graph(N, kave/(N-1))"
   ]
  },
  {
   "cell_type": "markdown",
   "metadata": {},
   "source": [
    "# Run Simulation"
   ]
  },
  {
   "cell_type": "code",
   "execution_count": null,
   "metadata": {},
   "outputs": [],
   "source": [
    "# Loop over time\n",
    "for i in range(max_time):\n",
    "    # Run simulation\n",
    "    data = EoN.fast_SIR(G, tau, gamma, initial_infecteds=infected_list, initial_recovereds=recovered_list,/\n",
    "                        tmin=i, tmax=i+1, return_full_data=True)\n",
    "    \n",
    "    # Update infected and recovered nodelists\n",
    "    infected_list, recovered_list = get_infected_and_recovered(data)\n",
    "    \n",
    "    # Add and remove nodes\n",
    "    G, infected_list, recovered_list = recalibrate_graph(G, infected_list, recovered_list)"
   ]
  },
  {
   "cell_type": "markdown",
   "metadata": {},
   "source": [
    "## Plot Results"
   ]
  },
  {
   "cell_type": "code",
   "execution_count": 18,
   "metadata": {},
   "outputs": [
    {
     "data": {
      "image/png": "[encoded data removed]",
      "text/plain": [
       "<Figure size 432x288 with 1 Axes>"
      ]
     },
     "metadata": {
      "needs_background": "light"
     },
     "output_type": "display_data"
    }
   ],
   "source": [
    "plt.plot(t1, S1, label = 'Susceptible')\n",
    "plt.plot(t1, I1, label = 'Infected')\n",
    "plt.plot(t1, R1, label = 'Recovered')\n",
    "# plt.plot(t_deaths, deaths, label = 'Deaths')\n",
    "\n",
    "plt.xlabel('Time')\n",
    "plt.ylabel('Number infected')\n",
    "plt.legend()\n",
    "plt.show()"
   ]
  },
  {
   "cell_type": "code",
   "execution_count": null,
   "metadata": {},
   "outputs": [],
   "source": []
  }
 ],
 "metadata": {
  "kernelspec": {
   "display_name": "Python 3",
   "language": "python",
   "name": "python3"
  },
  "language_info": {
   "codemirror_mode": {
    "name": "ipython",
    "version": 3
   },
   "file_extension": ".py",
   "mimetype": "text/x-python",
   "name": "python",
   "nbconvert_exporter": "python",
   "pygments_lexer": "ipython3",
   "version": "3.8.2"
  }
 },
 "nbformat": 4,
 "nbformat_minor": 4
}
