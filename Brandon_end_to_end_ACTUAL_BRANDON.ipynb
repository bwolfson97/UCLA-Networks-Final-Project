{
 "cells": [
  {
   "cell_type": "code",
   "execution_count": 1,
   "metadata": {},
   "outputs": [],
   "source": [
    "%load_ext autoreload\n",
    "%autoreload 2\n",
    "%matplotlib inline"
   ]
  },
  {
   "cell_type": "code",
   "execution_count": 2,
   "metadata": {},
   "outputs": [],
   "source": [
    "import networkx as nx\n",
    "import EoN\n",
    "import matplotlib.pyplot as plt\n",
    "from functions import *"
   ]
  },
  {
   "cell_type": "markdown",
   "metadata": {},
   "source": [
    "# SIR Model on G(n,p) Network"
   ]
  },
  {
   "cell_type": "markdown",
   "metadata": {},
   "source": [
    "Code adapted from first example found here: https://arxiv.org/pdf/2001.02436.pdf."
   ]
  },
  {
   "cell_type": "markdown",
   "metadata": {},
   "source": [
    "### Resources\n",
    "* [Her colleague's paper](https://d1b10bmlvqabco.cloudfront.net/attach/k7v24tpzbybzr/jmca5mxi9t361a/k9ye8o2opt8i/jail_paper.pdf)\n",
    "* [Daily Bruin Article](https://stack.dailybruin.com/2020/05/12/covid-model/)\n",
    "* [Epidemics on Networks paper](https://arxiv.org/pdf/2001.02436.pdf)"
   ]
  },
  {
   "cell_type": "markdown",
   "metadata": {},
   "source": [
    "### Coding Documentation"
   ]
  },
  {
   "cell_type": "markdown",
   "metadata": {},
   "source": [
    "* https://networkx.github.io/documentation/stable/reference/index.html\n",
    "* https://epidemicsonnetworks.readthedocs.io/en/latest/"
   ]
  },
  {
   "cell_type": "markdown",
   "metadata": {},
   "source": [
    "### TODO:\n",
    "**Emma & Sam**\n",
    "* Get more appropriate graph for a prison\n",
    "* Set parameters to be COVID specific --- Check paper she posted\n",
    "\n",
    "**Me & Marcel**\n",
    "* Figure out how to incorporate birth rate into prison\n",
    "* Figure out how to incorporate inmate releases\n",
    "* Use SIR model"
   ]
  },
  {
   "cell_type": "markdown",
   "metadata": {},
   "source": [
    "### Assumptions:\n",
    "- Added nodes are susceptible (not I or R)"
   ]
  },
  {
   "cell_type": "markdown",
   "metadata": {},
   "source": [
    "## Set Parameters"
   ]
  },
  {
   "cell_type": "code",
   "execution_count": 3,
   "metadata": {},
   "outputs": [],
   "source": [
    "# Set G(n,p) model-specific parameters\n",
    "N = 100 # number of individuals\n",
    "kave = 5 # expected number of contacts per person"
   ]
  },
  {
   "cell_type": "code",
   "execution_count": 8,
   "metadata": {},
   "outputs": [],
   "source": [
    "# Set simulation-specific parameters\n",
    "birth_number = 1\n",
    "release_number = 5\n",
    "infected_list = [0] # initial nodes that are infected\n",
    "recovered_list = [] # initial nodes that are recovered\n",
    "tau = 1.0 # transmission rate\n",
    "gamma = 1.0 # recovery rate\n",
    "max_time = 5"
   ]
  },
  {
   "cell_type": "markdown",
   "metadata": {},
   "source": [
    "## Generate graph"
   ]
  },
  {
   "cell_type": "code",
   "execution_count": 9,
   "metadata": {},
   "outputs": [],
   "source": [
    "G = nx.fast_gnp_random_graph(N, kave/(N-1))"
   ]
  },
  {
   "cell_type": "code",
   "execution_count": 10,
   "metadata": {},
   "outputs": [
    {
     "data": {
      "text/plain": [
       "(NodeView((0, 1, 2, 3, 4, 5, 6, 7, 8, 9, 10, 11, 12, 13, 14, 15, 16, 17, 18, 19, 20, 21, 22, 23, 24, 25, 26, 27, 28, 29, 30, 31, 32, 33, 34, 35, 36, 37, 38, 39, 40, 41, 42, 43, 44, 45, 46, 47, 48, 49, 50, 51, 52, 53, 54, 55, 56, 57, 58, 59, 60, 61, 62, 63, 64, 65, 66, 67, 68, 69, 70, 71, 72, 73, 74, 75, 76, 77, 78, 79, 80, 81, 82, 83, 84, 85, 86, 87, 88, 89, 90, 91, 92, 93, 94, 95, 96, 97, 98, 99)),\n",
       " 100)"
      ]
     },
     "execution_count": 10,
     "metadata": {},
     "output_type": "execute_result"
    }
   ],
   "source": [
    "G.nodes, len(G.nodes)"
   ]
  },
  {
   "cell_type": "markdown",
   "metadata": {},
   "source": [
    "# Run Simulation"
   ]
  },
  {
   "cell_type": "code",
   "execution_count": 11,
   "metadata": {},
   "outputs": [],
   "source": [
    "data_list = []\n",
    "infected_ll = []\n",
    "recovered_ll = []"
   ]
  },
  {
   "cell_type": "code",
   "execution_count": 12,
   "metadata": {},
   "outputs": [
    {
     "name": "stdout",
     "output_type": "stream",
     "text": [
      "0\n",
      "1\n",
      "2\n",
      "3\n",
      "4\n"
     ]
    }
   ],
   "source": [
    "# Loop over time\n",
    "for i in range(max_time):\n",
    "    # Run simulation\n",
    "    print(i)\n",
    "    data = EoN.fast_SIR(G, tau, gamma, initial_infecteds=infected_list, initial_recovereds=recovered_list,\\\n",
    "                        tmin=i, tmax=i+1, return_full_data=True)\n",
    "    data_list.append(data)\n",
    "    \n",
    "    # Update infected and recovered nodelists\n",
    "    infected_list, recovered_list = get_infected(data, i+1), get_recovered(data, i+1)\n",
    "    \n",
    "    # Add and remove nodes\n",
    "    G, infected_list, recovered_list = recalibrate_graph(G, infected_list, recovered_list, birth_number, release_number)\n",
    "    \n",
    "    infected_ll.append(infected_list)\n",
    "    recovered_ll.append(recovered_list)"
   ]
  },
  {
   "cell_type": "code",
   "execution_count": null,
   "metadata": {},
   "outputs": [],
   "source": [
    "data1 = EoN.fast_SIR(G, tau, gamma, initial_infecteds=[0, 1, 2], tmin=0, tmax=1, return_full_data=True)\n",
    "infected1 = get_infected(data, 1)"
   ]
  },
  {
   "cell_type": "code",
   "execution_count": null,
   "metadata": {},
   "outputs": [],
   "source": [
    "data2 = EoN.fast_SIR(G, tau, gamma, initial_infecteds=infected1, tmin=1, tmax=2, return_full_data=True)"
   ]
  },
  {
   "cell_type": "code",
   "execution_count": null,
   "metadata": {},
   "outputs": [],
   "source": [
    "data2.t()"
   ]
  },
  {
   "cell_type": "code",
   "execution_count": 14,
   "metadata": {},
   "outputs": [
    {
     "ename": "TypeError",
     "evalue": "'Simulation_Investigation' object is not subscriptable",
     "output_type": "error",
     "traceback": [
      "\u001b[1;31m---------------------------------------------------------------------------\u001b[0m",
      "\u001b[1;31mTypeError\u001b[0m                                 Traceback (most recent call last)",
      "\u001b[1;32m<ipython-input-14-80a4aab09c73>\u001b[0m in \u001b[0;36m<module>\u001b[1;34m\u001b[0m\n\u001b[1;32m----> 1\u001b[1;33m \u001b[0mdata\u001b[0m\u001b[1;33m[\u001b[0m\u001b[1;36m0\u001b[0m\u001b[1;33m]\u001b[0m\u001b[1;33m\u001b[0m\u001b[1;33m\u001b[0m\u001b[0m\n\u001b[0m",
      "\u001b[1;31mTypeError\u001b[0m: 'Simulation_Investigation' object is not subscriptable"
     ]
    }
   ],
   "source": [
    "data[0]"
   ]
  },
  {
   "cell_type": "code",
   "execution_count": 13,
   "metadata": {},
   "outputs": [
    {
     "data": {
      "text/plain": [
       "[array([0.        , 0.08779688, 0.1141294 , 0.17152089, 0.19032177,\n",
       "        0.22276244, 0.23036374, 0.23443079, 0.23720342, 0.30555024,\n",
       "        0.35942246, 0.37633982, 0.3938937 , 0.39995386, 0.4032759 ,\n",
       "        0.41197679, 0.43171285, 0.48733076, 0.50639957, 0.52369546,\n",
       "        0.53829417, 0.54983201, 0.55026584, 0.55998315, 0.59360553,\n",
       "        0.60100568, 0.60506289, 0.61134466, 0.61853684, 0.67602924,\n",
       "        0.67758446, 0.69741401, 0.70206267, 0.7458256 , 0.74662882,\n",
       "        0.75813061, 0.76448849, 0.76768996, 0.78462251, 0.79714851,\n",
       "        0.80292212, 0.80545256, 0.80560803, 0.84573301, 0.8471048 ,\n",
       "        0.85987846, 0.86929425, 0.87019147, 0.87268913, 0.87638907,\n",
       "        0.87645303, 0.87655793, 0.8936545 , 0.89565983, 0.90686156,\n",
       "        0.92091386, 0.9241791 , 0.92959371, 0.93444466, 0.94972244,\n",
       "        0.95040462, 0.95142734, 0.95291924, 0.97651059, 0.9944511 ,\n",
       "        0.99607192, 0.99951833]),\n",
       " array([0.        , 1.        , 1.00036761, 1.00546014, 1.03093023,\n",
       "        1.04648131, 1.06875861, 1.09760738, 1.09906249, 1.12863268,\n",
       "        1.17883623, 1.19135284, 1.20190661, 1.20533885, 1.2332807 ,\n",
       "        1.25459193, 1.26401054, 1.27903941, 1.28197062, 1.29442292,\n",
       "        1.32194302, 1.32226393, 1.34714204, 1.35109469, 1.36831625,\n",
       "        1.39369388, 1.42356256, 1.45779827, 1.47044385, 1.49246393,\n",
       "        1.5328388 , 1.62782149, 1.64796666, 1.66433632, 1.66915469,\n",
       "        1.68536712, 1.69613639, 1.70523507, 1.70646784, 1.71503692,\n",
       "        1.74548618, 1.75408639, 1.77072074, 1.79298337, 1.82015806,\n",
       "        1.83336444, 1.83734755, 1.8669029 , 1.89721332, 1.99927461]),\n",
       " array([1.        , 2.        , 2.07783289, 2.08728688, 2.11423853,\n",
       "        2.18073565, 2.20828987, 2.24679726, 2.27777165, 2.27966957,\n",
       "        2.31662375, 2.33397258, 2.36295395, 2.47942271, 2.75114086,\n",
       "        2.78775331, 2.80791526, 2.8626522 , 2.98402097, 2.98521626]),\n",
       " array([2.        , 3.        , 3.13412025, 3.18527034, 3.26989184,\n",
       "        3.36046166, 3.37277478, 3.58821002, 3.60187442, 3.81343074,\n",
       "        3.93654954, 3.98038829]),\n",
       " array([3, 4])]"
      ]
     },
     "execution_count": 13,
     "metadata": {},
     "output_type": "execute_result"
    }
   ],
   "source": [
    "times = [data.t() for data in data_list]\n",
    "times"
   ]
  },
  {
   "cell_type": "code",
   "execution_count": null,
   "metadata": {},
   "outputs": [],
   "source": [
    "times = np.concatenate(times)"
   ]
  },
  {
   "cell_type": "code",
   "execution_count": null,
   "metadata": {},
   "outputs": [],
   "source": [
    "times"
   ]
  },
  {
   "cell_type": "code",
   "execution_count": null,
   "metadata": {},
   "outputs": [],
   "source": [
    "infects = np.concatenate([data.I() for data in data_list]); infects"
   ]
  },
  {
   "cell_type": "code",
   "execution_count": null,
   "metadata": {},
   "outputs": [],
   "source": [
    "recovs = np.concatenate([data.R() for data in data_list]); recovs"
   ]
  },
  {
   "cell_type": "code",
   "execution_count": null,
   "metadata": {},
   "outputs": [],
   "source": [
    "len(times), len(infects), len(recovs)"
   ]
  },
  {
   "cell_type": "markdown",
   "metadata": {},
   "source": [
    "## Plot Results"
   ]
  },
  {
   "cell_type": "code",
   "execution_count": null,
   "metadata": {},
   "outputs": [],
   "source": [
    "#plt.plot(times, S1, label = 'Susceptible')\n",
    "plt.plot(times, infects, label = 'Infected')\n",
    "plt.plot(times, recovs, label = 'Recovered')\n",
    "# plt.plot(t_deaths, deaths, label = 'Deaths')\n",
    "\n",
    "plt.xlabel('Time')\n",
    "plt.ylabel('Number infected')\n",
    "plt.legend()\n",
    "plt.show()"
   ]
  },
  {
   "cell_type": "code",
   "execution_count": null,
   "metadata": {},
   "outputs": [],
   "source": []
  }
 ],
 "metadata": {
  "kernelspec": {
   "display_name": "Python 3",
   "language": "python",
   "name": "python3"
  },
  "language_info": {
   "codemirror_mode": {
    "name": "ipython",
    "version": 3
   },
   "file_extension": ".py",
   "mimetype": "text/x-python",
   "name": "python",
   "nbconvert_exporter": "python",
   "pygments_lexer": "ipython3",
   "version": "3.8.2"
  }
 },
 "nbformat": 4,
 "nbformat_minor": 4
}
