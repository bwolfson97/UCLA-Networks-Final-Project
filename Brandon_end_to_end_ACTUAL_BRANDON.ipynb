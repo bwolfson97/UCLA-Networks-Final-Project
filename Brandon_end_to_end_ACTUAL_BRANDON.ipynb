{
 "cells": [
  {
   "cell_type": "code",
   "execution_count": 13,
   "metadata": {},
   "outputs": [
    {
     "name": "stdout",
     "output_type": "stream",
     "text": [
      "The autoreload extension is already loaded. To reload it, use:\n",
      "  %reload_ext autoreload\n"
     ]
    }
   ],
   "source": [
    "%load_ext autoreload\n",
    "%autoreload 2\n",
    "%matplotlib inline"
   ]
  },
  {
   "cell_type": "code",
   "execution_count": 14,
   "metadata": {},
   "outputs": [],
   "source": [
    "import networkx as nx\n",
    "import EoN\n",
    "import matplotlib.pyplot as plt\n",
    "from functions import *"
   ]
  },
  {
   "cell_type": "markdown",
   "metadata": {},
   "source": [
    "# SIR Model on G(n,p) Network"
   ]
  },
  {
   "cell_type": "markdown",
   "metadata": {},
   "source": [
    "Code adapted from first example found here: https://arxiv.org/pdf/2001.02436.pdf."
   ]
  },
  {
   "cell_type": "markdown",
   "metadata": {},
   "source": [
    "### Resources\n",
    "* [Her colleague's paper](https://d1b10bmlvqabco.cloudfront.net/attach/k7v24tpzbybzr/jmca5mxi9t361a/k9ye8o2opt8i/jail_paper.pdf)\n",
    "* [Daily Bruin Article](https://stack.dailybruin.com/2020/05/12/covid-model/)\n",
    "* [Epidemics on Networks paper](https://arxiv.org/pdf/2001.02436.pdf)"
   ]
  },
  {
   "cell_type": "markdown",
   "metadata": {},
   "source": [
    "### Coding Documentation"
   ]
  },
  {
   "cell_type": "markdown",
   "metadata": {},
   "source": [
    "* https://networkx.github.io/documentation/stable/reference/index.html\n",
    "* https://epidemicsonnetworks.readthedocs.io/en/latest/"
   ]
  },
  {
   "cell_type": "markdown",
   "metadata": {},
   "source": [
    "### TODO:\n",
    "**Emma & Sam**\n",
    "* Get more appropriate graph for a prison\n",
    "* Set parameters to be COVID specific --- Check paper she posted\n",
    "\n",
    "**Me & Marcel**\n",
    "* Figure out how to incorporate birth rate into prison\n",
    "* Figure out how to incorporate inmate releases\n",
    "* Use SIR model"
   ]
  },
  {
   "cell_type": "markdown",
   "metadata": {},
   "source": [
    "### Assumptions:\n",
    "- Added inmates are susceptible (not I or R)"
   ]
  },
  {
   "cell_type": "markdown",
   "metadata": {},
   "source": [
    "### Bugs:\n",
    "* Dead people get released when inmates are released"
   ]
  },
  {
   "cell_type": "markdown",
   "metadata": {},
   "source": [
    "## Set Parameters"
   ]
  },
  {
   "cell_type": "code",
   "execution_count": 15,
   "metadata": {},
   "outputs": [],
   "source": [
    "# Set G(n,p) model-specific parameters\n",
    "N = 1000 # number of individuals\n",
    "kave = 10 # expected number of contacts per person"
   ]
  },
  {
   "cell_type": "code",
   "execution_count": 16,
   "metadata": {},
   "outputs": [],
   "source": [
    "# Set simulation-specific parameters\n",
    "birth_number = 0 # number of \n",
    "probability_of_new_connection = kave / (N-1)\n",
    "release_number = 200\n",
    "number_of_infected_before_releases = 200\n",
    "death_rate = 0.3\n",
    "initial_infected = [0] # initial nodes that are infected\n",
    "\n",
    "tau = 0.5 # transmission rate\n",
    "gamma = 1.0 # recovery rate\n",
    "max_time = 5"
   ]
  },
  {
   "cell_type": "markdown",
   "metadata": {},
   "source": [
    "## Generate graph"
   ]
  },
  {
   "cell_type": "code",
   "execution_count": 17,
   "metadata": {},
   "outputs": [],
   "source": [
    "G = nx.fast_gnp_random_graph(N, probability_of_new_connection)"
   ]
  },
  {
   "cell_type": "markdown",
   "metadata": {},
   "source": [
    "# Run Simulation"
   ]
  },
  {
   "cell_type": "code",
   "execution_count": 18,
   "metadata": {},
   "outputs": [],
   "source": [
    "infected_list = initial_infected\n",
    "recovered_list = []\n",
    "data_list = []\n",
    "\n",
    "# Loop over time\n",
    "for i in range(max_time):\n",
    "    # Run simulation\n",
    "    data = EoN.fast_SIR(G, tau, gamma, initial_infecteds=infected_list, initial_recovereds=recovered_list,\\\n",
    "                        tmin=i, tmax=i+1, return_full_data=True)\n",
    "    data_list.append(data)\n",
    "    \n",
    "    # Update infected and recovered nodelists\n",
    "    infected_list, recovered_list = get_infected(data, i+1), get_recovered(data, i+1)\n",
    "    \n",
    "    # Add and remove nodes\n",
    "    if len(infected_list) < number_of_infected_before_releases: # Only start inmate releases after some time\n",
    "        r_n = 0\n",
    "    else:\n",
    "        r_n = release_number\n",
    "    G, infected_list, recovered_list = recalibrate_graph(G, infected_list, recovered_list, \\\n",
    "                                                         birth_number, r_n, probability_of_new_connection)"
   ]
  },
  {
   "cell_type": "markdown",
   "metadata": {},
   "source": [
    "# Process Data"
   ]
  },
  {
   "cell_type": "code",
   "execution_count": 19,
   "metadata": {},
   "outputs": [],
   "source": [
    "times_l = []\n",
    "susceptible_ll = []\n",
    "infected_ll = []\n",
    "recovered_ll = []\n",
    "\n",
    "for data in data_list:\n",
    "    times, dict_of_states = data.summary()\n",
    "    times_l.append(np.delete(times, 0))\n",
    "    susceptible_ll.append(np.delete(dict_of_states['S'], 0))\n",
    "    infected_ll.append(np.delete(dict_of_states['I'], 0))\n",
    "    recovered_ll.append(np.delete(dict_of_states['R'], 0))"
   ]
  },
  {
   "cell_type": "code",
   "execution_count": 20,
   "metadata": {},
   "outputs": [],
   "source": [
    "t, S, I, R = aggregate_quantity(times_l), aggregate_quantity(susceptible_ll),\\\n",
    "            aggregate_quantity(infected_ll), aggregate_quantity(recovered_ll)"
   ]
  },
  {
   "cell_type": "markdown",
   "metadata": {},
   "source": [
    "### Calculate Deaths"
   ]
  },
  {
   "cell_type": "markdown",
   "metadata": {},
   "source": [
    "We say that amount of deaths is just some proportion of the recovered, and we adjust the amount of recovered accordingly."
   ]
  },
  {
   "cell_type": "code",
   "execution_count": 21,
   "metadata": {},
   "outputs": [],
   "source": [
    "D = R * death_rate\n",
    "R = R - D"
   ]
  },
  {
   "cell_type": "code",
   "execution_count": 22,
   "metadata": {},
   "outputs": [
    {
     "data": {
      "text/plain": [
       "((1526,), (1526,), (1526,), (1526,))"
      ]
     },
     "execution_count": 22,
     "metadata": {},
     "output_type": "execute_result"
    }
   ],
   "source": [
    "t.shape, I.shape, R.shape, D.shape"
   ]
  },
  {
   "cell_type": "markdown",
   "metadata": {},
   "source": [
    "# Plot Results"
   ]
  },
  {
   "cell_type": "code",
   "execution_count": 23,
   "metadata": {},
   "outputs": [
    {
     "data": {
      "image/png": "[encoded data removed]",
      "text/plain": [
       "<Figure size 432x288 with 1 Axes>"
      ]
     },
     "metadata": {
      "needs_background": "light"
     },
     "output_type": "display_data"
    }
   ],
   "source": [
    "plt.plot(t, S, label = 'Suscepible')\n",
    "plt.plot(t, I, label = 'Infected')\n",
    "plt.plot(t, R, label = 'Recovered')\n",
    "plt.plot(t, D, label = 'Deaths')\n",
    "\n",
    "plt.xlabel('Time')\n",
    "plt.ylabel('Number infected')\n",
    "plt.legend()\n",
    "plt.show()"
   ]
  },
  {
   "cell_type": "code",
   "execution_count": null,
   "metadata": {},
   "outputs": [],
   "source": [
    "tTest, Stest, Itest, Rtest = EoN.fast_SIR(G, tau, gamma, initial_infecteds=[0], tmin=1, tmax=5)"
   ]
  },
  {
   "cell_type": "code",
   "execution_count": null,
   "metadata": {},
   "outputs": [],
   "source": [
    "plt.plot(tTest, Itest, label = 'Infected')\n",
    "plt.plot(tTest, Rtest, label = 'Recovered')\n",
    "plt.plot(tTest, Stest, label = 'Suscepible')"
   ]
  }
 ],
 "metadata": {
  "kernelspec": {
   "display_name": "Python 3",
   "language": "python",
   "name": "python3"
  },
  "language_info": {
   "codemirror_mode": {
    "name": "ipython",
    "version": 3
   },
   "file_extension": ".py",
   "mimetype": "text/x-python",
   "name": "python",
   "nbconvert_exporter": "python",
   "pygments_lexer": "ipython3",
   "version": "3.8.2"
  }
 },
 "nbformat": 4,
 "nbformat_minor": 4
}
